{
 "cells": [
  {
   "cell_type": "markdown",
   "id": "de44a55e",
   "metadata": {},
   "source": [
    "# Import"
   ]
  },
  {
   "cell_type": "code",
   "execution_count": 1,
   "id": "7a5c2717",
   "metadata": {},
   "outputs": [],
   "source": [
    "import numpy as np\n",
    "import pandas as pd\n",
    "import matplotlib.pyplot as plt\n",
    "import seaborn as sn "
   ]
  },
  {
   "cell_type": "code",
   "execution_count": 4,
   "id": "3f0ddebf",
   "metadata": {},
   "outputs": [],
   "source": [
    "from yelpapi import YelpAPI\n",
    "import os, json, math, time\n",
    "from tqdm.notebook import tqdm_notebook"
   ]
  },
  {
   "cell_type": "markdown",
   "id": "bb848770",
   "metadata": {},
   "source": [
    "# Credentials and Accessing the API\n",
    "\n"
   ]
  },
  {
   "cell_type": "code",
   "execution_count": 5,
   "id": "d7fd9ac9",
   "metadata": {},
   "outputs": [],
   "source": [
    "# Load API Credentials\n",
    "with open ('/Users/ERNESTO/.secret/yelp_api.json') as f:\n",
    "    login = json.load(f)\n",
    "    \n",
    "# Instantiate YelpAPI variable\n",
    "\n",
    "yelp_api = YelpAPI(login['api-key'], timeout_s = 5.0)"
   ]
  },
  {
   "cell_type": "markdown",
   "id": "f813abb5",
   "metadata": {},
   "source": [
    "# Define Search\n",
    "\n",
    "To allow us to easily perform different searches in the future, we will define variables for LOCATION and TERM set for our particular search conditions. Then, when we want to use a different location or term, we can just redefine these variables. This streamlines the code and makes it more readable and reproducible."
   ]
  },
  {
   "cell_type": "code",
   "execution_count": 6,
   "id": "baea890d",
   "metadata": {},
   "outputs": [],
   "source": [
    "LOCATION = 'NY, NY'\n",
    "TERM = 'Pizza'"
   ]
  },
  {
   "cell_type": "markdown",
   "id": "6d3ce0bd",
   "metadata": {},
   "source": [
    "# Create a results-in-progress JSON file, but only if it doesn't exist.\n",
    "\n",
    "This is the file where your results will be saved. Note: you must rename your JSON_FILE for different queries to prevent confusing results from other searches. We recommend you include your search terms in the filename."
   ]
  },
  {
   "cell_type": "code",
   "execution_count": 7,
   "id": "f6f9c30f",
   "metadata": {},
   "outputs": [
    {
     "data": {
      "text/plain": [
       "'Data/results_in_progress_NY_pizza.json'"
      ]
     },
     "execution_count": 7,
     "metadata": {},
     "output_type": "execute_result"
    }
   ],
   "source": [
    "# Specifying JSON_FILE filename (can include a folder)\n",
    "# include the search term in the filename\n",
    "JSON_FILE = \"Data/results_in_progress_NY_pizza.json\"\n",
    "JSON_FILE"
   ]
  },
  {
   "cell_type": "markdown",
   "id": "8928e833",
   "metadata": {},
   "source": [
    "# Check if our JSON_FILE already exists. \n",
    "\n",
    "This will prevent us from accidentally overwriting an existing file.\n",
    "\n",
    "If it doesn't exist:\n",
    "\n",
    "Create any folders needed for the file path.\n",
    "\n",
    "Save an empty list as JSON_File"
   ]
  },
  {
   "cell_type": "code",
   "execution_count": 8,
   "id": "b3ca82c3",
   "metadata": {},
   "outputs": [
    {
     "name": "stdout",
     "output_type": "stream",
     "text": [
      "[i] Data/results_in_progress_NY_pizza.json not found. Saving empty list to file.\n"
     ]
    }
   ],
   "source": [
    "## Check if JSON_FILE exists\n",
    "file_exists = os.path.isfile(JSON_FILE)\n",
    "## If it does not exist: \n",
    "if file_exists == False:\n",
    "    \n",
    "    ## CREATE ANY NEEDED FOLDERS\n",
    "    # Get the Folder Name only\n",
    "    folder = os.path.dirname(JSON_FILE)\n",
    "    ## If JSON_FILE included a folder:\n",
    "    if len(folder)>0:\n",
    "        # create the folder\n",
    "        os.makedirs(folder,exist_ok=True)\n",
    "        \n",
    "        \n",
    "    ## INFORM USER AND SAVE EMPTY LIST\n",
    "    print(f'[i] {JSON_FILE} not found. Saving empty list to file.')\n",
    "    \n",
    "    \n",
    "    # save an empty list\n",
    "    with open(JSON_FILE,'w') as f:\n",
    "        json.dump([],f)  \n",
    "# If it exists, inform user\n",
    "else:\n",
    "    print(f\"[i] {JSON_FILE} already exists.\")\n"
   ]
  },
  {
   "cell_type": "markdown",
   "id": "2b7be0cb",
   "metadata": {},
   "source": [
    "# Determine how many results are already in the file\n",
    "\n",
    "Load the results file to determine the # of results we have previously retrieved. If you just created the file, you would expect it to be empty.\n",
    "\n",
    "We will use this as our offset parameter for our API call. Even if this is your first API call, and the number is 0, we want to define \"n_results\" based on the length of \"previous_results.\""
   ]
  },
  {
   "cell_type": "code",
   "execution_count": 9,
   "id": "7373a80a",
   "metadata": {},
   "outputs": [
    {
     "name": "stdout",
     "output_type": "stream",
     "text": [
      "- 0 previous results found.\n"
     ]
    }
   ],
   "source": [
    "## Load previous results and use len of results for offset\n",
    "with open(JSON_FILE,'r') as f:\n",
    "    previous_results = json.load(f)\n",
    "    \n",
    "## set offset based on previous results\n",
    "n_results = len(previous_results)\n",
    "print(f'- {n_results} previous results found.')\n",
    "\n"
   ]
  },
  {
   "cell_type": "markdown",
   "id": "bdf6b246",
   "metadata": {},
   "source": [
    "# Figure out how many pages of results we will need\n",
    "\n",
    "We will perform our first query to get our first page of results and the total number of results. We will then (via code) calculate how many pages we will need to retrieve all of our results."
   ]
  },
  {
   "cell_type": "code",
   "execution_count": 10,
   "id": "46b95cff",
   "metadata": {},
   "outputs": [
    {
     "data": {
      "text/plain": [
       "dict_keys(['businesses', 'total', 'region'])"
      ]
     },
     "execution_count": 10,
     "metadata": {},
     "output_type": "execute_result"
    }
   ],
   "source": [
    "# use our yelp_api variable's search_query method to perform our API call\n",
    "results = yelp_api.search_query(location=LOCATION,\n",
    "                                term=TERM,\n",
    "                               offset=n_results)\n",
    "results.keys()\n",
    "\n"
   ]
  },
  {
   "cell_type": "code",
   "execution_count": 12,
   "id": "9b4918e5",
   "metadata": {},
   "outputs": [
    {
     "data": {
      "text/plain": [
       "12400"
      ]
     },
     "execution_count": 12,
     "metadata": {},
     "output_type": "execute_result"
    }
   ],
   "source": [
    "## How many results total?\n",
    "total_results = results['total']\n",
    "total_results\n",
    "\n"
   ]
  },
  {
   "cell_type": "code",
   "execution_count": 14,
   "id": "d0e63a6c",
   "metadata": {},
   "outputs": [
    {
     "data": {
      "text/plain": [
       "20"
      ]
     },
     "execution_count": 14,
     "metadata": {},
     "output_type": "execute_result"
    }
   ],
   "source": [
    "## How many did we get the details for?\n",
    "results_per_page = len(results['businesses'])\n",
    "results_per_page\n",
    "\n"
   ]
  },
  {
   "cell_type": "markdown",
   "id": "2f1fe9e3",
   "metadata": {},
   "source": [
    "There are over 12400 businesses to retrieve from our API and we can get 20 results at a time (per \"page\").\n",
    "\n",
    "We can calculate the # of results remaining by subtracting our offset (length of our previous results) from our total.\n",
    "\n",
    "Then we can determining how many pages we will need by dividing the results by 20 (or whatever the value happens to be for results per page)\n",
    "\n",
    "Note that we need to round up the number of pages in order to get all of the results. Even if there is only 1 result on the last page, we want to include that page! To do this we will use math.ceil."
   ]
  },
  {
   "cell_type": "code",
   "execution_count": 15,
   "id": "b68b2de4",
   "metadata": {},
   "outputs": [
    {
     "data": {
      "text/plain": [
       "620"
      ]
     },
     "execution_count": 15,
     "metadata": {},
     "output_type": "execute_result"
    }
   ],
   "source": [
    "# Import additional packages for controlling our loop\n",
    "import time, math\n",
    "# Use math.ceil to round up for the total number of pages of results.\n",
    "n_pages = math.ceil((results['total']-n_results)/ results_per_page)\n",
    "n_pages\n",
    "\n"
   ]
  },
  {
   "cell_type": "markdown",
   "id": "e2617a8d",
   "metadata": {},
   "source": [
    "When this example was written, there were 12400 results and 20 results per page. 12400 /20 = 620. But what if we had 12410 results? Rounding UP would give us 561 pages. We expect the first 560 pages to have 20 results and the last page to have the final 10 results. Notice that we have assigned the number of pages as n_pages here. We will use this value in our next segment of code.\n",
    "\n",
    "You can see that having to manually go through 620 pages would be quite time consuming and inefficient! First we are going to save the first page into our file, and then we will add on to it with a for loop."
   ]
  },
  {
   "cell_type": "markdown",
   "id": "1619c2dd",
   "metadata": {},
   "source": [
    "# Add this page of results to .json file\n",
    "\n",
    "Our API returns our results in JSON format, with the businesses in a list of dictionaries. We will append the first page of businesses to our previous_results (which is very likely empty) and then save to disk."
   ]
  },
  {
   "cell_type": "code",
   "execution_count": null,
   "id": "5752bd6b",
   "metadata": {},
   "outputs": [],
   "source": []
  }
 ],
 "metadata": {
  "kernelspec": {
   "display_name": "Python (dojo-env)",
   "language": "python",
   "name": "dojo-env"
  },
  "language_info": {
   "codemirror_mode": {
    "name": "ipython",
    "version": 3
   },
   "file_extension": ".py",
   "mimetype": "text/x-python",
   "name": "python",
   "nbconvert_exporter": "python",
   "pygments_lexer": "ipython3",
   "version": "3.9.15"
  },
  "toc": {
   "base_numbering": 1,
   "nav_menu": {},
   "number_sections": false,
   "sideBar": true,
   "skip_h1_title": false,
   "title_cell": "Table of Contents",
   "title_sidebar": "Contents",
   "toc_cell": false,
   "toc_position": {},
   "toc_section_display": true,
   "toc_window_display": true
  }
 },
 "nbformat": 4,
 "nbformat_minor": 5
}
